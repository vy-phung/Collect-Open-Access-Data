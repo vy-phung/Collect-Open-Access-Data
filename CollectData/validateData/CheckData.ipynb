{
 "cells": [
  {
   "cell_type": "markdown",
   "metadata": {},
   "source": [
    "# HOW I CHECK HOW CLEAN THE DATA IS\n",
    "\n",
    "Below are ways I used to check how clean the data I processed. I think it is also important for you to know your own data are qualified enough or not. So hope what I did also helps you and your data."
   ]
  },
  {
   "cell_type": "code",
   "execution_count": null,
   "metadata": {},
   "outputs": [],
   "source": []
  }
 ],
 "metadata": {
  "language_info": {
   "name": "python"
  }
 },
 "nbformat": 4,
 "nbformat_minor": 2
}
